{
 "cells": [
  {
   "cell_type": "code",
   "execution_count": 1,
   "id": "97007018-bbca-43cd-b52c-047fa44c6e55",
   "metadata": {},
   "outputs": [],
   "source": [
    "# This will be a calculator used to normalize date from real time quantitative PCR via the delta delta Ct method..."
   ]
  }
 ],
 "metadata": {
  "kernelspec": {
   "display_name": "Python 3 (ipykernel)",
   "language": "python",
   "name": "python3"
  },
  "language_info": {
   "codemirror_mode": {
    "name": "ipython",
    "version": 3
   },
   "file_extension": ".py",
   "mimetype": "text/x-python",
   "name": "python",
   "nbconvert_exporter": "python",
   "pygments_lexer": "ipython3",
   "version": "3.11.4"
  }
 },
 "nbformat": 4,
 "nbformat_minor": 5
}
